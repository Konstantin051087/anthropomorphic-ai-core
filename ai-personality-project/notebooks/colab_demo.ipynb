{ cd /home/konstanin/��оек��/�ои\ п�оек��/Bisnes/�од�л�н�й\ Эмо�ионал�н�й\ ��/emotional\-ai\-core/ai\-personality\-project/notebooks

 "cells": [
  {
   "cell_type": "markdown",
   "metadata": {
    "id": "ai-personality-demo"
   },
   "source": [
    "# � AI Personality Project - Google Colab Demo\n",
    "\n",
    "## �емон���а�и� �� � ли�но���� и �мо�и�ми\n",
    "\n",
    "Э�о� но��б�к демон���и��е� �або�� AI Personality Project в Google Colab.\n",
    "\n",
    "### �озможно��и:\n",
    "- � Эмо�ионал�н�й анализ �ек��а\n",
    "- � Разли�н�е �ип� ли�но��и\n",
    "- � �н�е�ак�ивное об�ение\n",
    "- � �нализ �мо�ионал�ного �о��о�ни�\n",
    "\n",
    "---"
   ]
  },
  {
   "cell_type": "markdown",
   "metadata": {
    "id": "setup-section"
   },
   "source": [
    "## � У��ановка и на���ойка"
   ]
  },
  {
   "cell_type": "code",
   "execution_count": null,
   "metadata": {
    "id": "install-dependencies"
   },
   "outputs": [],
   "source": [
    "# У��ановка зави�имо��ей\n",
    "!pip install transformers torch flask flask-sqlalchemy sqlalchemy numpy requests psutil python-dotenv\n",
    "print(\"� �ави�имо��и ���ановлен�\")"
   ]
  },
  {
   "cell_type": "code",
   "execution_count": null,
   "metadata": {
    "id": "download-project"
   },
   "outputs": [],
   "source": [
    "# �аг��зка п�оек�а\n",
    "import os\n",
    "if not os.path.exists('ai-personality-project'):\n",
    "    !git clone https://github.com/your-username/ai-personality-project.git\n",
    "    %cd ai-personality-project\n",
    "else:\n",
    "    %cd ai-personality-project\n",
    "    !git pull\n",
    "\n",
    "print(\"� ��оек� заг��жен\")"
   ]
  },
  {
   "cell_type": "code",
   "execution_count": null,
   "metadata": {
    "id": "import-modules"
   },
   "outputs": [],
   "source": [
    "# �мпо�� мод�лей\n",
    "import sys\n",
    "sys.path.append('/content/ai-personality-project')\n",
    "\n",
    "from ai_personality_project.ai_core import AICore\n",
    "from ai_personality_project.emotional_model import EmotionalModel\n",
    "from ai_personality_project.advanced_persona_manager import AdvancedPersonaManager\n",
    "import logging\n",
    "\n",
    "# �а���ойка логи�овани�\n",
    "logging.basicConfig(level=logging.INFO, format='%(asctime)s - %(levelname)s - %(message)s')\n",
    "\n",
    "print(\"� �од�ли импо��и�ован�\")"
   ]
  },
  {
   "cell_type": "markdown",
   "metadata": {
    "id": "initialization-section"
   },
   "source": [
    "## � �ни�иализа�и� AI �и��ем�"
   ]
  },
  {
   "cell_type": "code",
   "execution_count": null,
   "metadata": {
    "id": "initialize-ai"
   },
   "outputs": [],
   "source": [
    "# �ни�иализа�и� AI\n",
    "print(\"� �ни�иализа�и� AI Personality Project...\")\n",
    "\n",
    "ai_core = AICore()\n",
    "ai_core.initialize()\n",
    "\n",
    "print(\"� AI Personality Project ��пе�но ини�иализи�ован!\")\n",
    "print(\"� �о���пн�е ли�но��и:\")\n",
    "\n",
    "# �оказ до���пн�� пе��онажей\n",
    "personas = ai_core.persona_manager.list_personas()\n",
    "for persona in personas:\n",
    "    print(f\"   - {persona['name']} (ID: {persona['id']})\")"
   ]
  },
  {
   "cell_type": "markdown",
   "metadata": {
    "id": "interactive-section"
   },
   "source": [
    "## � �н�е�ак�ивн�й �а�"
   ]
  },
  {
   "cell_type": "code",
   "execution_count": null,
   "metadata": {
    "id": "chat-function"
   },
   "outputs": [],
   "source": [
    "def chat_with_persona(persona_id=1):\n",
    "    \"\"\"Ф�нк�и� дл� об�ени� � в�б�анной ли�но����\"\"\"\n",
    "    persona = ai_core.persona_manager.get_persona(persona_id)\n",
    "    print(f\"� �б�а��� �: {persona['name']}\")\n",
    "    print(\"� �веди�е 'quit', 'exit' или 'в��од' дл� заве��ени�\")\n",
    "    print(\"-\" * 50)\n",
    "    \n",
    "    message_count = 0\n",
    "    \n",
    "    while True:\n",
    "        user_input = input(\"\\n� ��: \").strip()\n",
    "        \n",
    "        if user_input.lower() in ['quit', 'exit', 'в��од', '��оп']:\n",
    "            print(\"\\n� �о �видани�! ��ло п�и��но пооб�а����!\")\n",
    "            break\n",
    "        \n",
    "        if not user_input:\n",
    "            print(\"�� �ожал�й��а, введи�е �ооб�ение\")\n",
    "            continue\n",
    "            \n",
    "        # �б�або�ка �ооб�ени�\n",
    "        print(\"� �нализи���...\")\n",
    "        result = ai_core.process_interaction(user_input, persona_id)\n",
    "        \n",
    "        if result['success']:\n",
    "            print(f\"\\n� ��: {result['response']}\")\n",
    "            \n",
    "            # �оказ �мо�ионал�ного анализа\n",
    "            if 'emotion_analysis' in result:\n",
    "                emotion = result['emotion_analysis'].get('dominant_emotion', 'neutral')\n",
    "                confidence = result['emotion_analysis'].get('confidence', 0)\n",
    "                print(f\"   � �п�еделенна� �мо�и�: {emotion} (�ве�енно���: {confidence:.2f})\")\n",
    "        else:\n",
    "            print(f\"\\n� ��ибка: {result.get('error', '�еизве��на� о�ибка')}\")\n",
    "        \n",
    "        message_count += 1\n",
    "        \n",
    "    print(f\"\\n� С�а�и��ика: {message_count} �ооб�ений об�або�ано\")"
   ]
  },
  {
   "cell_type": "code",
   "execution_count": null,
   "metadata": {
    "id": "start-chat"
   },
   "outputs": [],
   "source": [
    "# �ап��к ин�е�ак�ивного �а�а\n",
    "print(\"� �ап��к ин�е�ак�ивного �а�а...\")\n",
    "print(\"�о���пн�е ли�но��и:\")\n",
    "print(\"1 - ���жел�бн�й помо�ник �\")\n",
    "print(\"2 - ��о�е��ионал�н�й �ове�ник �\")\n",
    "\n",
    "try:\n",
    "    persona_choice = int(input(\"\\n��бе�и�е ли�но��� (1 или 2): \"))\n",
    "    if persona_choice in [1, 2]:\n",
    "        chat_with_persona(persona_choice)\n",
    "    else:\n",
    "        print(\"�� �еве�н�й в�бо�, и�пол�з�е��� ли�но��� по �мол�ани�\")\n",
    "        chat_with_persona(1)\n",
    "except ValueError:\n",
    "    print(\"�� �еве�н�й ввод, и�пол�з�е��� ли�но��� по �мол�ани�\")\n",
    "    chat_with_persona(1)"
   ]
  },
  {
   "cell_type": "markdown",
   "metadata": {
    "id": "analysis-section"
   },
   "source": [
    "## � Те��и�ование и анализ"
   ]
  },
  {
   "cell_type": "code",
   "execution_count": null,
   "metadata": {
    "id": "test-emotions"
   },
   "outputs": [],
   "source": [
    "# Те��и�ование �мо�ионал�ного анализа\n",
    "print(\"� Те��и�ование �мо�ионал�ного анализа\")\n",
    "print(\"=\" * 50)\n",
    "\n",
    "test_messages = [\n",
    "    \"Я �ак ��а��лив �егодн�!\",\n",
    "    \"�не о�ен� г����но и одиноко...\",\n",
    "    \"Я п�о��о в ��о��и о� ��ой �и��а�ии!\",\n",
    "    \"Сегодн� об��н�й ден�, ни�его о�обенного.\",\n",
    "    \"Э�о неве�о��но! Я �ак взволнован!\",\n",
    "    \"�не н�жно ��покои���� и под�ма��.\"\n",
    "]\n",
    "\n",
    "emotional_model = EmotionalModel()\n",
    "emotional_model.initialize()\n",
    "\n",
    "for message in test_messages:\n",
    "    analysis = emotional_model.analyze_emotion(message)\n",
    "    emotion = analysis.get('dominant_emotion', 'neutral')\n",
    "    confidence = analysis.get('confidence', 0)\n",
    "    \n",
    "    print(f\"� Сооб�ение: '{message}'\")\n",
    "    print(f\"� Эмо�и�: {emotion} (�ве�енно���: {confidence:.2f})\")\n",
    "    print(\"-\" * 40)"
   ]
  },
  {
   "cell_type": "code",
   "execution_count": null,
   "metadata": {
    "id": "compare-personas"
   },
   "outputs": [],
   "source": [
    "# С�авнение �азн�� ли�но��ей\n",
    "print(\"� С�авнение �еак�ий �азн�� ли�но��ей\")\n",
    "print(\"=\" * 60)\n",
    "\n",
    "test_questions = [\n",
    "    \"��иве�! �ак �вои дела?\",\n",
    "    \"У мен� �егодн� п�облем� на �або�е.\",\n",
    "    \"Ч�о �� д�мае�� о и�к����венном ин�еллек�е?\",\n",
    "    \"�не н�жен �вой �ове�.\"\n",
    "]\n",
    "\n",
    "for question in test_questions:\n",
    "    print(f\"\\n� �оп�о�: '{question}'\")\n",
    "    print(\"-\" * 50)\n",
    "    \n",
    "    for persona_id in [1, 2]:\n",
    "        result = ai_core.process_interaction(question, persona_id)\n",
    "        if result['success']:\n",
    "            persona_name = \"���жел�бн�й помо�ник\" if persona_id == 1 else \"��о�е��ионал�н�й �ове�ник\"\n",
    "            emotion = result.get('emotion_analysis', {}).get('dominant_emotion', 'neutral')\n",
    "            print(f\"� {persona_name}:\")\n",
    "            print(f\"   � {result['response']}\")\n",
    "            print(f\"   � Эмо�и�: {emotion}\")\n",
    "    print(\"=\" * 50)"
   ]
  },
  {
   "cell_type": "markdown",
   "metadata": {
    "id": "conclusion-section"
   },
   "source": [
    "## � �акл��ение\n",
    "\n",
    "### � Ч�о б�ло п�одемон���и�овано:\n",
    "1. **Эмо�ионал�н�й анализ** - �и��ема оп�едел�е� �мо�ионал�н�� ок�а�к� �ек��а\n",
    "2. **Разн�е ли�но��и** - �азли�н�е �ип� �еаги�овани� в зави�имо��и о� в�б�анного пе��онажа\n",
    "3. **�дап�ивное поведение** - о�ве�� зави��� о� кон�ек��а и �мо�ий\n",
    "4. **�н�е�ак�ивное об�ение** - е��е��венн�й диалог � пол�зова�елем\n",
    "\n",
    "### � �ал�ней�ее �азви�ие:\n",
    "- �обавление бол��его коли�е��ва ли�но��ей\n",
    "- Ул���ение �мо�ионал�ного анализа � помо��� ML моделей\n",
    "- �н�ег�а�и� � голо�ов�ми ин�е��ей�ами\n",
    "- �олго��о�на� пам��� диалогов\n",
    "\n",
    "---\n",
    "\n",
    "**AI Personality Project** ��пе�но демон���и��е� �або�� �� � �елове�е�кой ли�но���� и �мо�и�ми!"
   ]
  }
 ],
 "metadata": {
  "colab": {
   "provenance": [],
   "toc_visible": true
  },
  "kernelspec": {
   "display_name": "Python 3",
   "name": "python3"
  }
 },
 "nbformat": 4,
 "nbformat_minor": 0
}