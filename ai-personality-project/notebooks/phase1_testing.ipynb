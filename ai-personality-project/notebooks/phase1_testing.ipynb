{
 "cells": [
  {
   "cell_type": "markdown",
   "metadata": {
    "id": "phase1-testing"
   },
   "source": [
    "# � Phase 1 Testing - AI Personality Project\n",
    "\n",
    "## Те��и�ование о�новн�� компонен�ов �и��ем�\n",
    "\n",
    "Э�о� но��б�к п�едназна�ен дл� �е��и�овани� о�новн�� ��нк�ий AI Personality Project."
   ]
  },
  {
   "cell_type": "code",
   "execution_count": null,
   "metadata": {
    "id": "setup-environment"
   },
   "outputs": [],
   "source": [
    "# �а���ойка ок��жени�\n",
    "import sys\n",
    "import os\n",
    "\n",
    "# �обавл�ем п��� к п�оек��\n",
    "project_path = '/content/ai-personality-project'\n",
    "if os.path.exists(project_path):\n",
    "    sys.path.insert(0, project_path)\n",
    "\n",
    "print(\"� �к��жение на���оено\")"
   ]
  },
  {
   "cell_type": "code",
   "execution_count": null,
   "metadata": {
    "id": "test-emotional-model"
   },
   "outputs": [],
   "source": [
    "# Те��и�ование �мо�ионал�ной модели\n",
    "from ai_personality_project.emotional_model import EmotionalModel\n",
    "\n",
    "print(\"� Те��и�ование EmotionalModel...\")\n",
    "\n",
    "emotional_model = EmotionalModel()\n",
    "emotional_model.initialize()\n",
    "\n",
    "test_messages = [\n",
    "    \"Я �ак ��а��лив �егодн�!\",\n",
    "    \"�не о�ен� г����но...\",\n",
    "    \"Я зол на ��� �и��а�и�!\",\n",
    "    \"�б��н�й ден�\"\n",
    "]\n",
    "\n",
    "for message in test_messages:\n",
    "    result = emotional_model.analyze_emotion(message)\n",
    "    print(f\"� '{message}' -> {result['dominant_emotion']} (�ве�енно���: {result['confidence']:.2f})\")\n",
    "\n",
    "print(\"� EmotionalModel �е��и�ование заве��ено\")"
   ]
  },
  {
   "cell_type": "code",
   "execution_count": null,
   "metadata": {
    "id": "test-persona-manager"
   },
   "outputs": [],
   "source": [
    "# Те��и�ование менедже�а пе��онажей\n",
    "from ai_personality_project.advanced_persona_manager import AdvancedPersonaManager\n",
    "\n",
    "print(\"� Те��и�ование AdvancedPersonaManager...\")\n",
    "\n",
    "persona_manager = AdvancedPersonaManager()\n",
    "persona_manager.initialize()\n",
    "\n",
    "personas = persona_manager.list_personas()\n",
    "print(f\"� �айдено пе��онажей: {len(personas)}\")\n",
    "\n",
    "for persona in personas:\n",
    "    print(f\"  - {persona['name']} (ID: {persona['id']})\")\n",
    "\n",
    "print(\"� AdvancedPersonaManager �е��и�ование заве��ено\")"
   ]
  },
  {
   "cell_type": "code",
   "execution_count": null,
   "metadata": {
    "id": "test-ai-core"
   },
   "outputs": [],
   "source": [
    "# Те��и�ование о�новного AI �д�а\n",
    "from ai_personality_project.ai_core import AICore\n",
    "\n",
    "print(\"� Те��и�ование AICore...\")\n",
    "\n",
    "ai_core = AICore()\n",
    "ai_core.initialize()\n",
    "\n",
    "test_interactions = [\n",
    "    (\"��иве�! �ак дела?\", 1),\n",
    "    (\"У мен� п�облем� � п�оек�ом\", 2),\n",
    "    (\"Я �егодн� о�ли�но �еб� ��в��в��!\", 1)\n",
    "]\n",
    "\n",
    "for text, persona_id in test_interactions:\n",
    "    result = ai_core.process_interaction(text, persona_id)\n",
    "    if result['success']:\n",
    "        print(f\"� �е��онаж {persona_id}: {result['response']}\")\n",
    "        print(f\"   � Эмо�и�: {result['emotion_analysis']['dominant_emotion']}\")\n",
    "    else:\n",
    "        print(f\"� ��ибка: {result['error']}\")\n",
    "\n",
    "print(\"� AICore �е��и�ование заве��ено\")"
   ]
  },
  {
   "cell_type": "code",
   "execution_count": null,
   "metadata": {
    "id": "performance-testing"
   },
   "outputs": [],
   "source": [
    "# Те��и�ование п�оизводи�ел�но��и\n",
    "import time\n",
    "\n",
    "print(\"� Те��и�ование п�оизводи�ел�но��и...\")\n",
    "\n",
    "test_messages = [\"Те��овое �ооб�ение \" + str(i) for i in range(10)]\n",
    "\n",
    "start_time = time.time()\n",
    "\n",
    "for i, message in enumerate(test_messages):\n",
    "    result = ai_core.process_interaction(message, 1)\n",
    "    if result['success']:\n",
    "        print(f\"  {i+1}. �б�або�ано за {time.time() - start_time:.2f}�\")\n",
    "\n",
    "total_time = time.time() - start_time\n",
    "avg_time = total_time / len(test_messages)\n",
    "\n",
    "print(f\"� ��оги п�оизводи�ел�но��и:\")\n",
    "print(f\"   ��его �ооб�ений: {len(test_messages)}\")\n",
    "print(f\"   �б�ее в�ем�: {total_time:.2f}�\")\n",
    "print(f\"   С�еднее в�ем�: {avg_time:.2f}�/�ооб�ение\")\n",
    "\n",
    "print(\"� Те��и�ование п�оизводи�ел�но��и заве��ено\")"
   ]
  },
  {
   "cell_type": "markdown",
   "metadata": {
    "id": "conclusion"
   },
   "source": [
    "# � Рез�л��а�� �е��и�овани� Phase 1\n",
    "\n",
    "## � У�пе�но п�о�е��и�овано:\n",
    "- Эмо�ионал�на� модел�\n",
    "- �енедже� пе��онажей  \n",
    "- ��новное AI �д�о\n",
    "- ��оизводи�ел�но��� �и��ем�\n",
    "\n",
    "## � С�а���: ��Т�� � Р����РТЫ����Ю"
   ]
  }
 ],
 "metadata": {
  "colab": {
   "provenance": []
  },
  "kernelspec": {
   "display_name": "Python 3",
   "name": "python3"
  }
 },
 "nbformat": 4,
 "nbformat_minor": 0
}