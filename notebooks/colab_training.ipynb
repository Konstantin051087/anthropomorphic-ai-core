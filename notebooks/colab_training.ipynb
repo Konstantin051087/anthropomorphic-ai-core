{ "cells": [
  {
   "cell_type": "markdown",
   "metadata": {
    "id": "emotional-ai-training"
   },
   "source": [
    "# Emotional AI Model Training Notebook\n",
    "## Обучение моделей для антропоморфного ИИ\n",
    "\n",
    "Этот ноутбук предназначен для обучения и тонкой настройки моделей анализа эмоций на Google Colab."
   ]
  },
  {
   "cell_type": "markdown",
   "metadata": {
    "id": "setup-environment"
   },
   "source": [
    "## 1. Настройка окружения"
   ]
  },
  {
   "cell_type": "code",
   "execution_count": null,
   "metadata": {
    "id": "install-dependencies"
   },
   "outputs": [],
   "source": [
    "!pip install transformers==4.31.0\n",
    "!pip install datasets==2.13.1\n",
    "!pip install torch==2.0.1\n",
    "!pip install accelerate==0.21.0\n",
    "!pip install evaluate==0.4.0\n",
    "!pip install scikit-learn==1.3.0\n",
    "!pip install numpy==1.24.3\n",
    "!pip install wandb==0.15.8\n",
    "!pip install gdown==4.7.1"
   ]
  },
  {
   "cell_type": "code",
   "execution_count": null,
   "metadata": {
    "id": "import-libraries"
   },
   "outputs": [],
   "source": [
    "import torch\n",
    "import numpy as np\n",
    "import pandas as pd\n",
    "from datasets import Dataset, load_dataset\n",
    "from transformers import (\n",
    "    AutoTokenizer, AutoModelForSequenceClassification,\n",
    "    TrainingArguments, Trainer, DataCollatorWithPadding\n",
    ")\n",
    "from sklearn.metrics import accuracy_score, f1_score, classification_report\n",
    "import evaluate\n",
    "import os\n",
    "import json\n",
    "from datetime import datetime\n",
    "import gdown"
   ]
  },
  {
   "cell_type": "markdown",
   "metadata": {
    "id": "data-preparation"
   },
   "source": [
    "## 2. Загрузка и подготовка данных"
   ]
  },
  {
   "cell_type": "code",
   "execution_count": null,
   "metadata": {
    "id": "load-dataset"
   },
   "outputs": [],
   "source": [
    "# Загрузка датасета эмоций (русский язык)\n",
    "def load_emotion_dataset():\n",
    "    \"\"\"Загрузка датасета для обучения модели эмоций\"\"\"\n",
    "    try:\n",
    "        # Используем датасет русских эмоций\n",
    "        dataset = load_dataset('cointegrated/cedr-emotion', 'ru')\n",
    "        return dataset\n",
    "    except:\n",
    "        # Альтернативный вариант - загрузка с Google Drive\n",
    "        print(\"Загрузка основного датасета не удалась, используем резервный...\")\n",
    "        \n",
    "        # Создаем небольшой демо-датасет\n",
    "        emotions_data = {\n",
    "            'text': [\n",
    "                'Я так счастлив сегодня!',\n",
    "                'Мне грустно и одиноко',\n",
    "                'Это просто ужасно, я в ярости',\n",
    "                'Боюсь что будет завтра',\n",
    "                'Вау, это неожиданно!',\n",
    "                'Мне все равно',\n",
    "                'Какой прекрасный день',\n",
    "                'Ненавижу когда так происходит',\n",
    "                'Чувствую себя прекрасно',\n",
    "                'Это отвратительно'\n",
    "            ],\n",
    "            'label': [0, 1, 2, 3, 4, 5, 0, 2, 0, 5]  # joy, sadness, anger, fear, surprise, disgust\n",
    "        }\n",
    "        \n",
    "        dataset = Dataset.from_dict(emotions_data)\n",
    "        return dataset\n",
    "\n",
    "dataset = load_emotion_dataset()\n",
    "print(\"Датасет загружен:\")\n",
    "print(dataset)"
   ]
  },
  {
   "cell_type": "code",
   "execution_count": null,
   "metadata": {
    "id": "preprocess-data"
   },
   "outputs": [],
   "source": [
    "# Настройка меток эмоций\n",
    "emotion_labels = [\n",
    "    'joy',      # 0 - радость\n",
    "    'sadness',  # 1 - грусть\n",
    "    'anger',    # 2 - злость\n",
    "    'fear',     # 3 - страх\n",
    "    'surprise', # 4 - удивление\n",
    "    'disgust'   # 5 - отвращение\n",
    "]\n",
    "\n",
    "id2label = {i: label for i, label in enumerate(emotion_labels)}\n",
    "label2id = {label: i for i, label in enumerate(emotion_labels)}\n",
    "\n",
    "print(\"Метки эмоций:\")\n",
    "print(id2label)"
   ]
  },
  {
   "cell_type": "code",
   "execution_count": null,
   "metadata": {
    "id": "tokenization"
   },
   "outputs": [],
   "source": [
    "# Инициализация токенизатора\n",
    "model_name = \"cointegrated/rubert-tiny2\"\n",
    "tokenizer = AutoTokenizer.from_pretrained(model_name)\n",
    "\n",
    "def preprocess_function(examples):\n",
    "    \"\"\"Функция предобработки текста\"\"\"\n",
    "    return tokenizer(\n",
    "        examples['text'],\n",
    "        truncation=True,\n",
    "        padding=True,\n",
    "        max_length=512,\n",
    "        return_tensors=None\n",
    "    )\n",
    "\n",
    "# Применяем токенизацию\n",
    "tokenized_dataset = dataset.map(preprocess_function, batched=True)\n",
    "print(\"Данные токенизированы\")"
   ]
  },
  {
   "cell_type": "markdown",
   "metadata": {
    "id": "model-training"
   },
   "source": [
    "## 3. Обучение модели"
   ]
  },
  {
   "cell_type": "code",
   "execution_count": null,
   "metadata": {
    "id": "load-model"
   },
   "outputs": [],
   "source": [
    "# Загрузка предобученной модели\n",
    "model = AutoModelForSequenceClassification.from_pretrained(\n",
    "    model_name,\n",
    "    num_labels=len(emotion_labels),\n",
    "    id2label=id2label,\n",
    "    label2id=label2id\n",
    ")\n",
    "\n",
    "print(\"Модель загружена:\")\n",
    "print(model.config)"
   ]
  },
  {
   "cell_type": "code",
   "execution_count": null,
   "metadata": {
    "id": "training-metrics"
   },
   "outputs": [],
   "source": [
    "# Функции для вычисления метрик\n",
    "def compute_metrics(eval_pred):\n",
    "    \"\"\"Вычисление метрик качества\"\"\"\n",
    "    predictions, labels = eval_pred\n",
    "    predictions = np.argmax(predictions, axis=1)\n",
    "    \n",
    "    accuracy = accuracy_score(labels, predictions)\n",
    "    f1 = f1_score(labels, predictions, average='weighted')\n",
    "    \n",
    "    return {\n",
    "        'accuracy': accuracy,\n",
    "        'f1': f1\n",
    "    }\n",
    "\n",
    "# Коллатор данных\n",
    "data_collator = DataCollatorWithPadding(tokenizer=tokenizer)"
   ]
  },
  {
   "cell_type": "code",
   "execution_count": null,
   "metadata": {
    "id": "training-arguments"
   },
   "outputs": [],
   "source": [
    "# Аргументы обучения\n",
    "training_args = TrainingArguments(\n",
    "    output_dir=\"./emotional-ai-model\",\n",
    "    learning_rate=2e-5,\n",
    "    per_device_train_batch_size=16,\n",
    "    per_device_eval_batch_size=16,\n",
    "    num_train_epochs=5,\n",
    "    weight_decay=0.01,\n",
    "    evaluation_strategy=\"epoch\",\n",
    "    save_strategy=\"epoch\",\n",
    "    load_best_model_at_end=True,\n",
    "    push_to_hub=False,\n",
    "    logging_dir='./logs',\n",
    "    logging_steps=10,\n",
    "    report_to=None  # Отключаем wandb для Colab\n",
    ")\n",
    "\n",
    "print(\"Аргументы обучения настроены\")"
   ]
  },
  {
   "cell_type": "code",
   "execution_count": null,
   "metadata": {
    "id": "trainer-setup"
   },
   "outputs": [],
   "source": [
    "# Создание тренера\n",
    "trainer = Trainer(\n",
    "    model=model,\n",
    "    args=training_args,\n",
    "    train_dataset=tokenized_dataset,\n",
    "    eval_dataset=tokenized_dataset,\n",
    "    tokenizer=tokenizer,\n",
    "    data_collator=data_collator,\n",
    "    compute_metrics=compute_metrics\n",
    ")\n",
    "\n",
    "print(\"Тренер создан, начинаем обучение...\")"
   ]
  },
  {
   "cell_type": "code",
   "execution_count": null,
   "metadata": {
    "id": "start-training"
   },
   "outputs": [],
   "source": [
    "# Запуск обучения\n",
    "train_result = trainer.train()\n",
    "\n",
    "# Сохранение метрик\n",
    "metrics = train_result.metrics\n",
    "trainer.save_metrics(\"train\", metrics)\n",
    "\n",
    "print(\"Обучение завершено!\")\n",
    "print(f\"Финальные метрики: {metrics}\")"
   ]
  },
  {
   "cell_type": "markdown",
   "metadata": {
    "id": "model-evaluation"
   },
   "source": [
    "## 4. Оценка модели"
   ]
  },
  {
   "cell_type": "code",
   "execution_count": null,
   "metadata": {
    "id": "evaluate-model"
   },
   "outputs": [],
   "source": [
    "# Оценка модели\n",
    "eval_results = trainer.evaluate()\n",
    "print(\"Результаты оценки:\")\n",
    "for key, value in eval_results.items():\n",
    "    print(f\"  {key}: {value:.4f}\")"
   ]
  },
  {
   "cell_type": "code",
   "execution_count": null,
   "metadata": {
    "id": "test-predictions"
   },
   "outputs": [],
   "source": [
    "# Тестовые предсказания\n",
    "test_texts = [\n",
    "    \"Я очень рад этому известию!\",\n",
    "    \"Мне грустно и тоскливо\",\n",
    "    \"Это вызывает у меня гнев\",\n",
    "    \"Я боюсь что будет дальше\"\n",
    "]\n",
    "\n",
    "print(\"Тестовые предсказания:\")\n",
    "for text in test_texts:\n",
    "    inputs = tokenizer(text, return_tensors=\"pt\", truncation=True, padding=True)\n",
    "    outputs = model(**inputs)\n",
    "    predictions = torch.nn.functional.softmax(outputs.logits, dim=-1)\n",
    "    predicted_class = predictions.argmax().item()\n",
    "    confidence = predictions.max().item()\n",
    "    \n",
    "    print(f\"  Текст: '{text}'\")\n",
    "    print(f\"  Эмоция: {id2label[predicted_class]} (уверенность: {confidence:.3f})\")\n",
    "    print()"
   ]
  },
  {
   "cell_type": "markdown",
   "metadata": {
    "id": "model-export"
   },
   "source": [
    "## 5. Сохранение и экспорт модели"
   ]
  },
  {
   "cell_type": "code",
   "execution_count": null,
   "metadata": {
    "id": "save-model"
   },
   "outputs": [],
   "source": [
    "# Сохранение модели\n",
    "trainer.save_model(\"./emotional-ai-model-final\")\n",
    "tokenizer.save_pretrained(\"./emotional-ai-model-final\")\n",
    "\n",
    "# Сохранение конфигурации\n",
    "model_config = {\n",
    "    \"model_name\": model_name,\n",
    "    \"emotion_labels\": emotion_labels,\n",
    "    \"training_date\": datetime.now().isoformat(),\n",
    "    \"metrics\": eval_results\n",
    "}\n",
    "\n",
    "with open(\"./emotional-ai-model-final/config.json\", \"w\") as f:\n",
    "    json.dump(model_config, f, indent=2)\n",
    "\n",
    "print(\"Модель сохранена в './emotional-ai-model-final'\")"
   ]
  },
  {
   "cell_type": "code",
   "execution_count": null,
   "metadata": {
    "id": "export-to-drive"
   },
   "outputs": [],
   "source": [
    "# Экспорт в Google Drive (опционально)\n",
    "try:\n",
    "    from google.colab import drive\n",
    "    drive.mount('/content/drive')\n",
    "    \n",
    "    # Копируем модель в Google Drive\n",
    "    !cp -r ./emotional-ai-model-final '/content/drive/MyDrive/emotional-ai-models/'\n",
    "    print(\"Модель экспортирована в Google Drive\")\n",
    "except:\n",
    "    print(\"Google Drive не доступен, модель сохранена только локально\")"
   ]
  },
  {
   "cell_type": "code",
   "execution_count": null,
   "metadata": {
    "id": "create-model-card"
   },
   "outputs": [],
   "source": [
    "# Создание карточки модели\n",
    "model_card = \"\"\"---\n",
    "language: ru\n",
    "license: apache-2.0\n",
    "library_name: transformers\n",
    "tags:\n",
    "- emotional-ai\n",
    "- emotion-classification\n",
    "- russian\n",
    "---\n",
    "\n",
    "# Emotional AI Model\n",
    "\n",
    "Модель для классификации эмоций в русскоязычном тексте.\n",
    "\n",
    "## Метаданные обучения\n",
    \"\"\"\n",
    "\n",
    "model_card += f\"\"\"\n",
    - **Дата обучения:** {model_config['training_date']}\n",
    "- **Базовая модель:** {model_config['model_name']}\n",
    "- **Метрики:** {model_config['metrics']}\n",
    "\n",
    "## Поддерживаемые эмоции\n",
    \"\"\"\n",
    "\n",
    "for i, emotion in enumerate(emotion_labels):\n",
    "    model_card += f\"- {emotion}\\n\"\n",
    "\n",
    "with open(\"./emotional-ai-model-final/README.md\", \"w\") as f:\n",
    "    f.write(model_card)\n",
    "\n",
    "print(\"Карточка модели создана\")"
   ]
  },
  {
   "cell_type": "markdown",
   "metadata": {
    "id": "conclusion"
   },
   "source": [
    "## 6. Заключение\n",
    "\n",
    "Модель успешно обучена и готова к использованию в Emotional AI системе."
   ]
  }
 ],
 "metadata": {
  "colab": {
   "provenance": []
  },
  "kernelspec": {
   "display_name": "Python 3",
   "language": "python",
   "name": "python3"
  },
  "language_info": {
   "name": "python"
  }
 },
 "nbformat": 4,
 "nbformat_minor": 0
}